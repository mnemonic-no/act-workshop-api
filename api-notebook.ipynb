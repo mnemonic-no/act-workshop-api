{
 "cells": [
  {
   "cell_type": "markdown",
   "metadata": {},
   "source": [
    "## Using the Jupyter notebook\n",
    "This is an interactive workbook, where you can run python code. You must have a working python environment with the required libraries installed to use the workbook.\n",
    "\n",
    "The workbook contains both text cells with instructions (like this cell) and code cells, where you can write code and execute it. Some of the code is already filled in. In that case you can execute the code by clicking on the cell and hit &lt;shift&gt; + &lt;enter&gt;. In the assignments, you will need to fill in some code first yourself.\n",
    "    \n",
    "* Use `<Shift> + <Enter>` to execute a cell and advance tot the next cell.\n",
    "* Use `<Ctrl> + <Enter>` to execute a cell and NOT advance to the next celll."
   ]
  },
  {
   "cell_type": "markdown",
   "metadata": {},
   "source": [
    "## ACT API\n",
    "Most of the functionality in the ACT platform can be accessed through a REST API. Here are some examples using curl:\n",
    "\n",
    "### Get a list of all object types\n",
    "`curl -XGET --header 'ACT-User-ID: 1' http://act-eu2.mnemonic.no/v1/objectType`\n",
    "\n",
    "Example output, using jq and sort to filter/sort the result\n",
    "\n",
    "```\n",
    "$ curl -XGET \\\n",
    "  --silent \\\n",
    "  --header 'ACT-User-ID: 1' \\\n",
    "  http://act-eu2.mnemonic.no/v1/objectType \\\n",
    "  | jq '.data[] | .name' \\\n",
    "  | sort\n",
    "\"accountNumber\"\n",
    "\"asn\"\n",
    "\"campaign\"\n",
    "\"certificate\"\n",
    "\"credential\"\n",
    "\"cryptocurrencyAddress\"\n",
    "\"goal\"\n",
    "(...)\n",
    "```\n",
    "\n",
    "### Search for facts with object value \"127.0.0.1\"\n",
    "`curl -X POST \\\n",
    "  --header 'Content-Type: application/json' \\\n",
    "  --header 'ACT-User-ID: 1' \\\n",
    "  -d '{\"objectValue\":[\"127.0.0.1\"] }' \\\n",
    "  http://act-eu2.mnemonic.no/v1/fact/search`\n",
    "  \n",
    "### Swagger\n",
    "Swagger is used both for API documentation and for experimenting with the API. If you have access to a private instance (not read only), swagger can be accessed at http://[host]/swagger/."
   ]
  },
  {
   "cell_type": "markdown",
   "metadata": {},
   "source": [
    "## Python API\n",
    "A high level Python API is created to ease the use of the API. You can find the stable version, including documentation on [pypi](https://pypi.org/project/act-api/) and the development version on [github](https://github.com/mnemonic-no/act-api-python)."
   ]
  },
  {
   "cell_type": "markdown",
   "metadata": {},
   "source": [
    "# Connecting to the API\n",
    "\n",
    "To connect to the API import the ACT library, and instantiate `act.Act`"
   ]
  },
  {
   "cell_type": "code",
   "execution_count": null,
   "metadata": {},
   "outputs": [],
   "source": [
    "import act\n",
    "\n",
    "c = act.Act(\"http://act-eu2.mnemonic.no\", user_id = 1, log_level = \"warning\")\n",
    "\n",
    "help(c)"
   ]
  },
  {
   "cell_type": "markdown",
   "metadata": {},
   "source": [
    "## Fact Types / Object Types\n",
    "\n",
    "With the client you now have access to most of the API, and we can for instance get a list of all Object Types:"
   ]
  },
  {
   "cell_type": "code",
   "execution_count": null,
   "metadata": {},
   "outputs": [],
   "source": [
    "for obj_type in c.get_object_types():\n",
    "    print(obj_type.name)"
   ]
  },
  {
   "cell_type": "markdown",
   "metadata": {},
   "source": [
    "## Assignment 1\n",
    "\n",
    "Write code to get list of all fact types.\n",
    "\n",
    "Hint: look at the code to list object types above and use the function `get_fact_types()` instead."
   ]
  },
  {
   "cell_type": "code",
   "execution_count": null,
   "metadata": {},
   "outputs": [],
   "source": [
    "# Write code to print all fact types here\n",
    "\n"
   ]
  },
  {
   "cell_type": "markdown",
   "metadata": {},
   "source": [
    "## Facts / Objects\n",
    "\n",
    "Facts/Objects can be retrived by searching type/value or directly through its id (its unique uuid)."
   ]
  },
  {
   "cell_type": "code",
   "execution_count": null,
   "metadata": {},
   "outputs": [],
   "source": [
    "facts = c.fact_search(object_type=\"ipv4\", object_value=\"149.202.29.114\")\n",
    "print(facts.size)\n",
    "one_fact = facts[0]"
   ]
  },
  {
   "cell_type": "markdown",
   "metadata": {},
   "source": [
    "Above we retrived the first fact in the variable `one_fact`\n",
    "Values can be obtained using dot notation. Objects related to a fact are stored in the objects array and there can be 1 or two values in this array."
   ]
  },
  {
   "cell_type": "code",
   "execution_count": null,
   "metadata": {},
   "outputs": [],
   "source": [
    "# Print first fact\n",
    "\n",
    "print(\"\"\"\n",
    "Fact type: {}\n",
    "Fact value: {}\n",
    "Object 1 type: {}\n",
    "Object 1 value: {}\n",
    "Object 1 direction: {}\n",
    "Object 2 type: {}\n",
    "Object 2 value: {}\n",
    "Object 2 direction: {}\n",
    "\"\"\".format(\n",
    "  one_fact.type.name,\n",
    "  one_fact.value,  \n",
    "  one_fact.objects[0].type.name,  \n",
    "  one_fact.objects[0].value,  \n",
    "  one_fact.objects[0].direction,  \n",
    "  one_fact.objects[1].type.name,  \n",
    "  one_fact.objects[1].value,  \n",
    "  one_fact.objects[1].direction,  \n",
    "\n",
    "))"
   ]
  },
  {
   "cell_type": "markdown",
   "metadata": {},
   "source": [
    "## Assignment 2\n",
    "\n",
    "Below a fact is retrieved by its id.. All facts with the same type/value will have the same id.\n",
    "\n",
    "Q: what is the fact type of this fact?\n",
    "\n",
    "Q: what are the objects connected to this fact?"
   ]
  },
  {
   "cell_type": "code",
   "execution_count": null,
   "metadata": {},
   "outputs": [],
   "source": [
    "fact = c.fact(id=\"021cce2f-808c-49e8-957f-dcc992c15cf6\").get()\n",
    "\n",
    "# Enter code to get get fact type and objects for this fact\n",
    "\n"
   ]
  },
  {
   "cell_type": "markdown",
   "metadata": {},
   "source": [
    "## Assignment 3\n",
    "\n",
    "In this scenario we have received logs for a period of suspicious activity. You can retrieve the logs with the code below."
   ]
  },
  {
   "cell_type": "code",
   "execution_count": null,
   "metadata": {},
   "outputs": [],
   "source": [
    "import json\n",
    "logs = json.loads(open(\"logs.json\").read())"
   ]
  },
  {
   "cell_type": "markdown",
   "metadata": {},
   "source": [
    "The log is an array of dictionaries. With the following keys:\n",
    "* timestamp\n",
    "* vendor\n",
    "* product\n",
    "* signature\n",
    "* user\n",
    "* src_ip [optional]\n",
    "* dest_ip [optional]\n",
    "* dest_port [optional]\n",
    "* file_hash [optional]"
   ]
  },
  {
   "cell_type": "markdown",
   "metadata": {},
   "source": [
    "Execute the code below to see what type of logs (vendor/product) we have."
   ]
  },
  {
   "cell_type": "code",
   "execution_count": null,
   "metadata": {},
   "outputs": [],
   "source": [
    "set([\"{}/{}\".format(log[\"vendor\"], log[\"product\"]) for log in logs])"
   ]
  },
  {
   "cell_type": "code",
   "execution_count": null,
   "metadata": {},
   "outputs": [],
   "source": [
    "# Get list of unique IP addresses\n",
    "dest_ip = list(set([log.get(\"dest_ip\") for log in logs if log.get(\"dest_ip\")]))"
   ]
  },
  {
   "cell_type": "code",
   "execution_count": null,
   "metadata": {
    "scrolled": false
   },
   "outputs": [],
   "source": [
    "print(\"Number of IPs: {}\".format(len(dest_ip)))\n",
    "\n",
    "facts = c.fact_search(object_type=\"ipv4\", object_value=dest_ip)\n",
    "for fact in facts:\n",
    "    print(fact.objects[0].value, fact.type.name, fact.value, fact.objects[1].value)"
   ]
  },
  {
   "cell_type": "markdown",
   "metadata": {},
   "source": [
    "In the result above there are different type of facts, and not necessarily all of them are signs of suspicious activity. \n",
    "\n",
    "* What type of facts are found?\n",
    "* Which source IPs / users are involved?\n",
    "* Which facts are most likely related to suspicious activity?"
   ]
  },
  {
   "cell_type": "code",
   "execution_count": null,
   "metadata": {},
   "outputs": [],
   "source": [
    "# Get source IPs / username of users that are involved\n"
   ]
  },
  {
   "cell_type": "markdown",
   "metadata": {},
   "source": [
    "## Other indicators\n",
    "\n",
    "In the above search, we looked at IP addresses. What other indicators do we have in our logs that can be used to search for in the platform?\n",
    "\n",
    "### Hint\n",
    "* Look at available object_types in the act platform and compare with what type of logs we have"
   ]
  },
  {
   "cell_type": "code",
   "execution_count": null,
   "metadata": {},
   "outputs": [],
   "source": [
    "## Extract other indicators from the logs and search the platform for these indicators\n",
    "\n"
   ]
  },
  {
   "cell_type": "markdown",
   "metadata": {},
   "source": [
    "## Assignment 4 - Incident\n",
    "\n",
    "We will no explore how to create facts in the platform. To do this, we will need to connecto to another instance, since act-eu2 is readonly. The password is the sames as given on the PPT slides shown earlier."
   ]
  },
  {
   "cell_type": "code",
   "execution_count": null,
   "metadata": {},
   "outputs": [],
   "source": [
    "cw = act.Act(\n",
    "    \"http://act-eu3.mnemonic.no\", \n",
    "    user_id = 1,\n",
    "    log_level = \"warning\",\n",
    "    requests_common_kwargs = {\"auth\": (\"act\", \"<PASSWORD>\")})"
   ]
  },
  {
   "cell_type": "markdown",
   "metadata": {},
   "source": [
    "We do not create objects in the platform, they are created indirectly whenver we add a \n",
    "fact that refer to a object.\n",
    "\n",
    "So what we need to to is to add facts, and they can be added like this:\n",
    "    \n",
    "```\n",
    "    fact = cw.fact(\n",
    "         fact_type, fact_value) \\\n",
    "           .source(source_object_type, source_object_value) \\\n",
    "           .destination(destination_object_type, destination_object_value)\n",
    "```\n",
    "\n",
    "The code above only creats a local representation of the fact. To add the fact to the platform, it must be added using `add()`:\n",
    "\n",
    "```\n",
    "    fact.add()\n",
    "```\n",
    "\n",
    "For connecting objects to reports, incidents, etc, we will use the `seenIn` fact. Some facts have validators that only accepts specific values, and we can get these parameters from the API:\n"
   ]
  },
  {
   "cell_type": "code",
   "execution_count": null,
   "metadata": {},
   "outputs": [],
   "source": [
    "# Show validator parameters for seenIn Fact\n",
    "[ft.validator_parameter for ft in cw.get_fact_types() if ft.name == \"seenIn\"][0]"
   ]
  },
  {
   "cell_type": "markdown",
   "metadata": {},
   "source": [
    "No we want to add the facts from the analysis above.\n",
    "\n",
    "* Which fact(s) do we want to add?\n",
    "* Hint: you can decide for yourself the value of an incident, as this is normally an internal reference. A god idea would be to put your name as part of the value in this excersise, for instance 'incident-&lt;yourname&gt;'. \n",
    "* Add the fact(s) to the platform"
   ]
  },
  {
   "cell_type": "code",
   "execution_count": null,
   "metadata": {},
   "outputs": [],
   "source": [
    "### Write code to add fact(s)\n",
    "\n"
   ]
  },
  {
   "cell_type": "markdown",
   "metadata": {},
   "source": [
    "Open a browser with the link to look at your incident in the GUI:\n",
    "    \n",
    "    http://act-eu3.mnemonic.no/object-fact-query/incident/incident-&lt;your-name&gt;\n",
    "        (replace incident-<your-name> with the value you specified when creating the fact)\n",
    "    \n",
    "    Try to clik on [Resolve Facts]. What happens?"
   ]
  },
  {
   "cell_type": "markdown",
   "metadata": {},
   "source": [
    "## Helper function - `pp()`\n",
    "The code below will give you some helper functions, where we will use this:\n",
    "* `pp(result)` - pretty print list or single fact/objects\n",
    "\n",
    "Use `pp(result, details=False)` to exclude object type and fact values form the result."
   ]
  },
  {
   "cell_type": "code",
   "execution_count": null,
   "metadata": {},
   "outputs": [],
   "source": [
    "src_obj_direction = {\n",
    "    \"FactIsDestination\": \" -> \",\n",
    "    \"FactIsSource\": \" <- \",\n",
    "    \"BiDirectional\": \" - \"\n",
    "}\n",
    "\n",
    "dest_obj_direction = {\n",
    "    \"FactIsDestination\": \" <- \",\n",
    "    \"FactIsSource\": \" -> \",\n",
    "    \"BiDirectional\": \" - \"\n",
    "}\n",
    "\n",
    "def format_obj(obj, details=True):\n",
    "    out = \"\"\n",
    "    \n",
    "    if details:\n",
    "        out += \"{}:\".format(obj.type.name)\n",
    "    \n",
    "    out += obj.value\n",
    "    return out\n",
    "    \n",
    "\n",
    "def pobj(obj, details=True):\n",
    "    print(format_obj(obj, details=details))\n",
    "    \n",
    "\n",
    "def pfact(fact, details=True):\n",
    "    out = \"\"\n",
    "    \n",
    "    src_obj = fact.objects[0]\n",
    "    \n",
    "    if len(fact.objects) > 1:\n",
    "        dest_obj = fact.objects[1]\n",
    "    else:\n",
    "        dest_obj = None\n",
    "\n",
    "    out += format_obj(src_obj, details=details)\n",
    "    out += src_obj_direction[src_obj.direction]\n",
    "\n",
    "    out += fact.type.name\n",
    "    \n",
    "    if details and not fact.value.startswith(\"-\"):\n",
    "        out += \":\" + fact.value\n",
    "    \n",
    "    if dest_obj:\n",
    "        out += dest_obj_direction[dest_obj.direction]\n",
    "        out += format_obj(dest_obj, details=details)\n",
    "        \n",
    "    print(out)\n",
    "    \n",
    "def pp(items, details=True):\n",
    "    if not isinstance(items, (list, tuple, act.base.ActResultSet)):\n",
    "        items = [items]\n",
    "          \n",
    "    for element in items:\n",
    "        if isinstance(element, act.obj.Object):\n",
    "            pobj(element, details=details)\n",
    "        elif isinstance(element, act.fact.Fact):\n",
    "            pfact(element, details=details)\n",
    "        else:\n",
    "            print(element)"
   ]
  },
  {
   "cell_type": "markdown",
   "metadata": {},
   "source": [
    "You can now use this method to print the facts:"
   ]
  },
  {
   "cell_type": "code",
   "execution_count": null,
   "metadata": {},
   "outputs": [],
   "source": [
    "facts = c.fact_search(object_type=\"ipv4\", object_value=\"151.80.241.83\")\n",
    "pp(facts)"
   ]
  },
  {
   "cell_type": "markdown",
   "metadata": {},
   "source": [
    "## Assignment 5 - Graph queries\n",
    "\n",
    "Graph queries are implemented in the platform using the [Apache TinkerPop stack](http://tinkerpop.apache.org/). The TinkerPop stack uses a query language, gremlin to support graph traversals. In this assignment we will construct some simple graph queries, using the Python API.\n",
    "\n",
    "The documentation for Apache TinkerPop can be found here:\n",
    "* [http://tinkerpop.apache.org/docs/current/](http://tinkerpop.apache.org/docs/current/)\n",
    "* [http://tinkerpop.apache.org/docs/current/reference/](http://tinkerpop.apache.org/docs/current/reference/)\n",
    "\n",
    "A more approachable book can be found here:\n",
    "\n",
    "* [http://kelvinlawrence.net/book/Gremlin-Graph-Guide.html](http://kelvinlawrence.net/book/Gremlin-Graph-Guide.html)\n",
    "\n",
    "In addtion it is handy to know how object and facts hare mapped to the graph:\n",
    "\n",
    "* object -> nodes\n",
    "* facts -> egdes\n",
    "\n",
    "Graph queries can be executed with the following function in the Python API:\n",
    "\n",
    "`c.object(type, value).traverse(gremin_query)`\n",
    "\n",
    "The (useless and) simple query below will return the starting node:"
   ]
  },
  {
   "cell_type": "code",
   "execution_count": null,
   "metadata": {},
   "outputs": [],
   "source": [
    "obj = c.object(\"ipv4\", \"149.202.29.77\").traverse('g')\n",
    "pp(obj)"
   ]
  },
  {
   "cell_type": "markdown",
   "metadata": {},
   "source": [
    "Let us explore more closely the facts associated with this object by stepping in/out from the initial object.\n",
    "\n",
    "To achive this, we use these gremlin functions:\n",
    "* `in()` - traverse to other objects pointing to us\n",
    "* `out()` - traverse to other objects which we point to\n",
    "* `both()` - travers to other objects either pointing to us or we point to\n",
    "\n",
    "Try using g.in(), g.out() and g.both() from our starting node."
   ]
  },
  {
   "cell_type": "code",
   "execution_count": null,
   "metadata": {},
   "outputs": [],
   "source": [
    "obj = c.object(\"ipv4\", \"149.202.29.77\").traverse('g.in()')\n",
    "pp(obj)"
   ]
  },
  {
   "cell_type": "markdown",
   "metadata": {},
   "source": [
    "Q: What do we get here?\n",
    "\n",
    "Compare with what you see here:\n",
    "\n",
    "[https://act-eu2.mnemonic.no/object-fact-query/ipv4/149.202.29.77](https://act-eu2.mnemonic.no/object-fact-query/ipv4/149.202.29.77)\n",
    "\n",
    "Right click on the edges in the graph. \n",
    "\n",
    "Q: What are we missing form the result above?\n",
    "\n",
    "Hint: We have used `in()` to step to the next node, but there also exists a function `inE()`. What is the difference? Try using inE() instead below."
   ]
  },
  {
   "cell_type": "code",
   "execution_count": null,
   "metadata": {},
   "outputs": [],
   "source": [
    "# Write a query that adds the information missing compared to what you see in the GUI\n"
   ]
  },
  {
   "cell_type": "markdown",
   "metadata": {},
   "source": [
    "What other type of C2 infrastructure is involved in the hashes observed using \"149.202.29.77\" as C2?"
   ]
  },
  {
   "cell_type": "code",
   "execution_count": null,
   "metadata": {},
   "outputs": [],
   "source": [
    "### Write a graph query that finds other type of C2 infrastructure\n",
    "\n"
   ]
  },
  {
   "cell_type": "markdown",
   "metadata": {},
   "source": [
    "## Assignment 6 - more advanced graph queries\n",
    "\n",
    "Scenario: Forensics has been conducted on a machine, and a suspicious sample with sha256 _95b7c2155d7dc60d097bdabbd5c42934a7828d1ae4a5e4b4119c9a07ebc15a96/details_ was found. Is this sample related to the same case, and if so, how?\n",
    "\n",
    "Hints:\n",
    "* https://www.virustotal.com/#/file/95b7c2155d7dc60d097bdabbd5c42934a7828d1ae4a5e4b4119c9a07ebc15a96\n",
    "* graph via tool or campaign\n",
    "* bothE().otherV()\n",
    "    "
   ]
  },
  {
   "cell_type": "code",
   "execution_count": null,
   "metadata": {},
   "outputs": [],
   "source": [
    "# Write a graph query finds any link through tool or campaign to the the other finding\n",
    "\n"
   ]
  }
 ],
 "metadata": {
  "kernelspec": {
   "display_name": "Python 3",
   "language": "python",
   "name": "python3"
  },
  "language_info": {
   "codemirror_mode": {
    "name": "ipython",
    "version": 3
   },
   "file_extension": ".py",
   "mimetype": "text/x-python",
   "name": "python",
   "nbconvert_exporter": "python",
   "pygments_lexer": "ipython3",
   "version": "3.5.3"
  }
 },
 "nbformat": 4,
 "nbformat_minor": 2
}
